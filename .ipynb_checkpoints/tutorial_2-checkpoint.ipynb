{
 "cells": [
  {
   "cell_type": "code",
   "execution_count": 27,
   "metadata": {},
   "outputs": [],
   "source": [
    "import bs4 as bs\n",
    "import pickle \n",
    "import datetime as dt\n",
    "import os\n",
    "import pandas as pd\n",
    "import pandas_datareader.data as web\n",
    "from pandas_datareader._utils import RemoteDataError\n",
    "import requests"
   ]
  },
  {
   "cell_type": "code",
   "execution_count": 21,
   "metadata": {
    "collapsed": true
   },
   "outputs": [],
   "source": [
    "def save_sp500_companies():\n",
    "    resp = requests.get('https://en.wikipedia.org/wiki/List_of_S%26P_500_companies')\n",
    "    soup = bs.BeautifulSoup(resp.text, 'lxml')\n",
    "    table = soup.find('table', {'class': 'wikitable sortable'})\n",
    "    tickers = []\n",
    "    \n",
    "    for row in table.findAll('tr')[1:]:\n",
    "        ticker = row.findAll('td')[0].text\n",
    "        tickers.append(ticker)\n",
    "        \n",
    "    with open('sp500tickers.pickle', 'wb') as f:\n",
    "        pickle.dump(tickers, f)\n",
    "        \n",
    "    return tickers"
   ]
  },
  {
   "cell_type": "code",
   "execution_count": 28,
   "metadata": {},
   "outputs": [],
   "source": [
    "def get_yahoo_data(reload_sp500=False):\n",
    "    if reload_sp500:\n",
    "        tickers = save_sp500_companies()\n",
    "    else:\n",
    "        with open('sp500tickers.pickle', 'rb') as f:\n",
    "            tickers = pickle.load(f)\n",
    "    \n",
    "    if not os.path.exists('stocks'):\n",
    "        os.makedirs('stocks')\n",
    "        \n",
    "    start = dt.datetime(2000, 1, 1)\n",
    "    end = dt.datetime(2016, 12, 31)\n",
    "    \n",
    "    for ticker in tickers:\n",
    "        print(ticker)\n",
    "        if not os.path.exists('stocks/{}.csv'.format(ticker)):\n",
    "            try:\n",
    "                df = web.DataReader(ticker, 'yahoo', start, end)\n",
    "                df.to_csv('stocks/{}.csv'.format(ticker))       \n",
    "            except RemoteDataError:\n",
    "                continue"
   ]
  },
  {
   "cell_type": "code",
   "execution_count": 46,
   "metadata": {},
   "outputs": [],
   "source": [
    "def compile_data():\n",
    "    with open('sp500tickers.pickle', 'rb') as f:\n",
    "        tickers = pickle.load(f)\n",
    "        \n",
    "    main_df = pd.DataFrame()\n",
    "    \n",
    "    for count, ticker in enumerate(tickers):\n",
    "        try:\n",
    "            df = pd.read_csv('stocks/{}.csv'.format(ticker))\n",
    "            df.set_index('Date', inplace=True)\n",
    "\n",
    "            df.rename(columns={'Adj Close': ticker}, inplace=True)\n",
    "            df.drop(['Open','High','Low','Close','Volume'], 1, inplace=True)\n",
    "            \n",
    "            if main_df.empty:\n",
    "                main_df = df\n",
    "            else:\n",
    "                main_df = main_df.join(df, how='outer')\n",
    "                \n",
    "        except FileNotFoundError:\n",
    "            continue\n",
    "    \n",
    "    main_df.to_csv('sp500_joined_closes.csv')\n",
    "    print('done')"
   ]
  },
  {
   "cell_type": "code",
   "execution_count": 47,
   "metadata": {},
   "outputs": [],
   "source": [
    "compile_data()"
   ]
  },
  {
   "cell_type": "code",
   "execution_count": null,
   "metadata": {
    "collapsed": true
   },
   "outputs": [],
   "source": []
  }
 ],
 "metadata": {
  "kernelspec": {
   "display_name": "Python 3",
   "language": "python",
   "name": "python3"
  },
  "language_info": {
   "codemirror_mode": {
    "name": "ipython",
    "version": 3
   },
   "file_extension": ".py",
   "mimetype": "text/x-python",
   "name": "python",
   "nbconvert_exporter": "python",
   "pygments_lexer": "ipython3",
   "version": "3.6.1"
  }
 },
 "nbformat": 4,
 "nbformat_minor": 2
}
